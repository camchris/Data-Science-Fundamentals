{
 "cells": [
  {
   "attachments": {},
   "cell_type": "markdown",
   "metadata": {},
   "source": [
    "# Worksheet 07\n",
    "\n",
    "Name:  Camille Christie\n",
    "UID: U89708684\n",
    "\n",
    "### Topics\n",
    "\n",
    "- Density-Based Clustering\n",
    "\n",
    "### Density-Based Clustering\n",
    "\n",
    "Follow along with the live coding of the DBScan algorithm."
   ]
  },
  {
   "cell_type": "code",
   "execution_count": null,
   "metadata": {},
   "outputs": [],
   "source": [
    "import numpy as np\n",
    "import matplotlib.pyplot as plt\n",
    "import sklearn.datasets as datasets\n",
    "\n",
    "centers = [[1, 1], [-1, -1], [1, -1]]\n",
    "X, _ = datasets.make_blobs(n_samples=750, centers=centers, cluster_std=0.4,\n",
    "                            random_state=0)\n",
    "plt.scatter(X[:,0],X[:,1],s=10, alpha=0.8)\n",
    "plt.show()\n",
    "\n",
    "class DBC():\n",
    "\n",
    "    def __init__(self, dataset, min_pts, epsilon):\n",
    "        self.dataset = dataset\n",
    "        self.min_pts = min_pts\n",
    "        self.epsilon = epsilon\n",
    "        self.assignments = [0 for _ in range (len(self.dataset))] # 0 means not assigned\n",
    "\n",
    "    def distance(self, i, j):\n",
    "        # returns euclidean distance\n",
    "        return np.linalg.norm(np.array(self.dataset[i], self.dataset[j])) # possible bug\n",
    "\n",
    "    def get_neighborhood(self, i):\n",
    "        neighborhood = []\n",
    "        for j in range(len(self.dataset)):\n",
    "            if self.distance(i, j) <= self.epsilon and i != j:\n",
    "                neighborhood.append(j)\n",
    "        return neighborhood\n",
    "\n",
    "\n",
    "    def is_core(self, i):\n",
    "        return len(self.get_neighborhood(i)) >= self.min_pts\n",
    "    \n",
    "    def assign(self, i, cluster_num):\n",
    "        self.assignments[i] = cluster_num\n",
    "        neighbor_queue = self.get_neighborhood(i)\n",
    "\n",
    "        while neighbor_queue:\n",
    "            next_point = neighbor_queue.pop()\n",
    "            if self.assignment[next_point] != 0:\n",
    "                continue\n",
    "        self.assignment[next_point] = cluster_num\n",
    "\n",
    "        if self.is_core(next_point):\n",
    "            next_neighborhood = self.get_neighborhood(next_point)\n",
    "            neighbor_queue += [i for i in next_neighborhood if self.assignmentp[i] == 0]\n",
    "        return \n",
    "    \n",
    "\n",
    "\n",
    "    def dbscan(self):\n",
    "        \"\"\"\n",
    "        returns a list of assignments. The index of the\n",
    "        assignment should match the index of the data point\n",
    "        in the dataset.\n",
    "        \"\"\"\n",
    "        cluster_num = 1\n",
    "        for i in range(len(self.dataset)):\n",
    "            if self.is_core(i) and self.assignments[i] == 0:\n",
    "                self.assign(i, cluster_num)\n",
    "                cluster_num += 1\n",
    "\n",
    "        return self.assignments\n",
    "\n",
    "clustering = DBC(X, 3, .2).dbscan()\n",
    "colors = np.array([x for x in 'bgrcmykbgrcmykbgrcmykbgrcmyk'])\n",
    "colors = np.hstack([colors] * 40)\n",
    "plt.scatter(X[:, 0], X[:, 1], color=colors[clustering].tolist(), s=10, alpha=0.8)\n",
    "plt.show()"
   ]
  }
 ],
 "metadata": {
  "kernelspec": {
   "display_name": "Python 3",
   "language": "python",
   "name": "python3"
  },
  "language_info": {
   "codemirror_mode": {
    "name": "ipython",
    "version": 3
   },
   "file_extension": ".py",
   "mimetype": "text/x-python",
   "name": "python",
   "nbconvert_exporter": "python",
   "pygments_lexer": "ipython3",
   "version": "3.10.0"
  },
  "orig_nbformat": 4,
  "vscode": {
   "interpreter": {
    "hash": "76ca05dc3ea24b2e3b98cdb7774adfbb40773424bf5109b477fd793f623715af"
   }
  }
 },
 "nbformat": 4,
 "nbformat_minor": 2
}
